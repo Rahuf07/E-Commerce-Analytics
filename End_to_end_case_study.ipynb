{
 "cells": [
  {
   "cell_type": "code",
   "execution_count": 181,
   "id": "6c125aff-1397-4b1e-b33a-b67152b18ab0",
   "metadata": {},
   "outputs": [],
   "source": [
    "import pandas as pd\n",
    "import numpy as np\n",
    "import datetime as dt\n",
    "import matplotlib.pyplot as plt\n",
    "import seaborn as sns\n",
    "from itertools import combinations\n",
    "from collections import Counter"
   ]
  },
  {
   "cell_type": "code",
   "execution_count": 182,
   "id": "6437c75e-7f6b-4858-b846-e0e007be3c57",
   "metadata": {},
   "outputs": [],
   "source": [
    "Customers = pd.read_csv(\"CUSTOMERS.csv\")\n",
    "Geo_location = pd.read_csv(\"GEO_LOCATION.csv\")\n",
    "Order_items = pd.read_csv(\"ORDER_ITEMS.csv\")\n",
    "Order_payment = pd.read_csv(\"ORDER_PAYMENTS.csv\")\n",
    "Order_review_rating = pd.read_csv(\"ORDER_REVIEW_RATINGS.csv\")\n",
    "Orders = pd.read_csv(\"ORDERS.csv\")\n",
    "Products = pd.read_csv(\"PRODUCTS.csv\")\n",
    "Sellers = pd.read_csv(\"SELLERS.csv\")"
   ]
  },
  {
   "cell_type": "code",
   "execution_count": 183,
   "id": "681445d0-f9ef-4e54-b6b7-7900cf83c8e4",
   "metadata": {},
   "outputs": [
    {
     "data": {
      "text/plain": [
       "99441"
      ]
     },
     "execution_count": 183,
     "metadata": {},
     "output_type": "execute_result"
    }
   ],
   "source": [
    "Customers.customer_id.nunique()"
   ]
  },
  {
   "cell_type": "code",
   "execution_count": 184,
   "id": "705bd3b6-64ec-44d6-b4d1-fd57f332ce84",
   "metadata": {},
   "outputs": [
    {
     "data": {
      "text/plain": [
       "96096"
      ]
     },
     "execution_count": 184,
     "metadata": {},
     "output_type": "execute_result"
    }
   ],
   "source": [
    "Customers.customer_unique_id.nunique()"
   ]
  },
  {
   "cell_type": "code",
   "execution_count": 185,
   "id": "9c6cc05f-d18f-44e4-8825-356abbe99f45",
   "metadata": {},
   "outputs": [
    {
     "name": "stdout",
     "output_type": "stream",
     "text": [
      "customer \n",
      " customer_id                 object\n",
      "customer_unique_id          object\n",
      "customer_zip_code_prefix     int64\n",
      "customer_city               object\n",
      "customer_state              object\n",
      "dtype: object\n",
      "\n",
      "\n",
      "Geo_location \n",
      " geolocation_zip_code_prefix      int64\n",
      "geolocation_lat                float64\n",
      "geolocation_lng                float64\n",
      "geolocation_city                object\n",
      "geolocation_state               object\n",
      "dtype: object\n",
      "\n",
      "\n",
      "Order_payment \n",
      " order_id                 object\n",
      "payment_sequential        int64\n",
      "payment_type             object\n",
      "payment_installments      int64\n",
      "payment_value           float64\n",
      "dtype: object\n",
      "\n",
      "\n",
      "Order_items \n",
      " order_id                object\n",
      "order_item_id            int64\n",
      "product_id              object\n",
      "seller_id               object\n",
      "shipping_limit_date     object\n",
      "price                  float64\n",
      "freight_value          float64\n",
      "dtype: object\n",
      "\n",
      "\n",
      "Order_review_rating \n",
      " review_id                  object\n",
      "order_id                   object\n",
      "review_score                int64\n",
      "review_creation_date       object\n",
      "review_answer_timestamp    object\n",
      "dtype: object\n",
      "\n",
      "\n",
      "Orders \n",
      " order_id                         object\n",
      "customer_id                      object\n",
      "order_status                     object\n",
      "order_purchase_timestamp         object\n",
      "order_approved_at                object\n",
      "order_delivered_carrier_date     object\n",
      "order_delivered_customer_date    object\n",
      "order_estimated_delivery_date    object\n",
      "dtype: object\n",
      "\n",
      "\n",
      "Products \n",
      " product_id                     object\n",
      "product_category_name          object\n",
      "product_name_lenght           float64\n",
      "product_description_lenght    float64\n",
      "product_photos_qty            float64\n",
      "product_weight_g              float64\n",
      "product_length_cm             float64\n",
      "product_height_cm             float64\n",
      "product_width_cm              float64\n",
      "dtype: object\n",
      "\n",
      "\n",
      "Sellers \n",
      " seller_id                 object\n",
      "seller_zip_code_prefix     int64\n",
      "seller_city               object\n",
      "seller_state              object\n",
      "dtype: object\n"
     ]
    }
   ],
   "source": [
    "print(\"customer \\n\",Customers.dtypes)\n",
    "print(\"\\n\")\n",
    "print(\"Geo_location \\n\",Geo_location.dtypes)\n",
    "print(\"\\n\")\n",
    "print(\"Order_payment \\n\",Order_payment.dtypes)\n",
    "print(\"\\n\")\n",
    "print(\"Order_items \\n\",Order_items.dtypes)\n",
    "print(\"\\n\")\n",
    "print(\"Order_review_rating \\n\",Order_review_rating.dtypes)\n",
    "print(\"\\n\")\n",
    "print(\"Orders \\n\",Orders.dtypes)\n",
    "print(\"\\n\")\n",
    "print(\"Products \\n\",Products.dtypes)\n",
    "print(\"\\n\")\n",
    "print(\"Sellers \\n\",Sellers.dtypes)"
   ]
  },
  {
   "cell_type": "markdown",
   "id": "d9c14d5b-6b6a-422e-979c-97cb47c046a2",
   "metadata": {},
   "source": [
    "### 1. Perform Detailed exploratory analysis"
   ]
  },
  {
   "cell_type": "markdown",
   "id": "10e58671-e4b2-4f74-b8ca-8ed85cf9769b",
   "metadata": {},
   "source": [
    "#### a. Define & calculate high level metrics like (Total Revenue, Total quantity, Total products, Total categories, Total sellers, Total locations, Total channels, Total payment methods etc…)"
   ]
  },
  {
   "cell_type": "code",
   "execution_count": 186,
   "id": "7aa81c92-78f8-487b-8f2a-4a066bfff8c6",
   "metadata": {},
   "outputs": [
    {
     "name": "stdout",
     "output_type": "stream",
     "text": [
      "Total Revenue = 16008872.12\n",
      "Total Quantity = 134936\n",
      "Total no of  Products = 32951\n",
      "Total no of categories = 71\n",
      "Total no of sellers = 3095\n",
      "Total no of location = 19015\n",
      "Total payment method = 5\n",
      "No of state with customers = 20\n",
      "Average no of installments = 3\n",
      "Average review score = 4.07\n"
     ]
    }
   ],
   "source": [
    "Total_revenue = round(Order_payment[\"payment_value\"].sum(),2)\n",
    "print(f\"Total Revenue = {Total_revenue}\")\n",
    "Total_quatity =  Order_items[\"order_item_id\"].sum()\n",
    "print(f\"Total Quantity = {Total_quatity}\")\n",
    "Total_products = Order_items[\"product_id\"].nunique()\n",
    "print(f\"Total no of  Products = {Total_products}\")\n",
    "Total_categories = Products[\"product_category_name\"].nunique()\n",
    "print(f\"Total no of categories = {Total_categories}\")\n",
    "Total_sellers = Sellers[\"seller_id\"].nunique()\n",
    "print(f\"Total no of sellers = {Total_sellers}\")\n",
    "Total_locations = Geo_location[\"geolocation_zip_code_prefix\"].nunique()\n",
    "print(f\"Total no of location = {Total_locations}\")\n",
    "Total_payment_methods = Order_payment[\"payment_type\"].nunique()\n",
    "print(f\"Total payment method = {Total_payment_methods}\")\n",
    "No_of_state = Customers[\"customer_state\"].nunique()\n",
    "print(f\"No of state with customers = {No_of_state}\")\n",
    "avg_installments = round(Order_payment[\"payment_installments\"].mean())\n",
    "print(f\"Average no of installments = {avg_installments}\")\n",
    "avg_review_score = round(Order_review_rating[\"review_score\"].mean(),2)\n",
    "print(f\"Average review score = {avg_review_score}\")\n"
   ]
  },
  {
   "cell_type": "markdown",
   "id": "7586a123-ca20-4849-b8eb-31589693c2b6",
   "metadata": {},
   "source": [
    "#### b. Understanding how many new customers acquired every month"
   ]
  },
  {
   "cell_type": "code",
   "execution_count": 187,
   "id": "815d135c-184d-4cf3-ba2c-77ae50db5c5c",
   "metadata": {},
   "outputs": [],
   "source": [
    "Orders_orders_item = Order_items.merge(Orders, on = \"order_id\", how = \"left\")\n",
    "Orders_orders_item_payment = Orders_orders_item.merge(Order_payment, on = \"order_id\", how = \"left\")\n",
    "Orders_orders_item_payment_prod = Orders_orders_item_payment.merge(Products, on = \"product_id\", how = \"left\")\n",
    "Orders_orders_item_payment_prod_review = Orders_orders_item_payment_prod.merge(Order_review_rating, on = \"order_id\", how = \"left\")\n",
    "Orders_orders_item_payment_prod_review_cust = Orders_orders_item_payment_prod_review.merge(Customers,on = \"customer_id\", how = \"left\")\n"
   ]
  },
  {
   "cell_type": "code",
   "execution_count": 188,
   "id": "3cb2cd31-1f3f-4cf3-9450-a68b120ca9c3",
   "metadata": {},
   "outputs": [
    {
     "data": {
      "text/plain": [
       "month\n",
       "April         9055\n",
       "August       10426\n",
       "December      5448\n",
       "February      8087\n",
       "January       7721\n",
       "July          9934\n",
       "June          9075\n",
       "March         9516\n",
       "May          10177\n",
       "November      7207\n",
       "October       4699\n",
       "September     4075\n",
       "Name: customer_unique_id, dtype: int64"
      ]
     },
     "execution_count": 188,
     "metadata": {},
     "output_type": "execute_result"
    }
   ],
   "source": [
    "# creating month column from order purchase date\n",
    "Orders_orders_item_payment_prod_review_cust[\"order_purchase_timestamp\"] = pd.to_datetime(Orders_orders_item_payment_prod_review_cust[\"order_purchase_timestamp\"])\n",
    "Orders_orders_item_payment_prod_review_cust[\"month\"] = Orders_orders_item_payment_prod_review_cust[\"order_purchase_timestamp\"].dt.month_name()\n",
    "\n",
    "\n",
    "unique_cust = Orders_orders_item_payment_prod_review_cust[[\"customer_unique_id\",\"month\"]].drop_duplicates(subset = \"customer_unique_id\" )\n",
    "new_cust = unique_cust.groupby(\"month\")[\"customer_unique_id\"].count()\n",
    "new_cust\n"
   ]
  },
  {
   "cell_type": "markdown",
   "id": "ce5b331b-d2bc-479e-9c93-00d26c6fc48c",
   "metadata": {},
   "source": [
    "#### c. Understand the retention of customers on month on month basis\n"
   ]
  },
  {
   "cell_type": "code",
   "execution_count": 189,
   "id": "cb2ffb22-1e02-4b00-9c9e-58f951c46e71",
   "metadata": {
    "tags": []
   },
   "outputs": [
    {
     "data": {
      "text/plain": [
       "month\n",
       "April        236\n",
       "August       302\n",
       "December     156\n",
       "February     221\n",
       "January      195\n",
       "July         238\n",
       "June         247\n",
       "March        216\n",
       "May          264\n",
       "November     183\n",
       "October      153\n",
       "September    124\n",
       "Name: customer_unique_id, dtype: int64"
      ]
     },
     "execution_count": 189,
     "metadata": {},
     "output_type": "execute_result"
    }
   ],
   "source": [
    "uniuqe_id = Orders_orders_item_payment_prod_review_cust.groupby([\"month\",\"customer_unique_id\"])[\"customer_unique_id\"].nunique()\n",
    "new_tabele = Orders_orders_item_payment_prod_review_cust.merge(unique_cust, on = \"customer_unique_id\", how = \"left\")\n",
    "\n",
    "new_tabele.rename(columns = { \"month_x\" : \"month\", \"month_y\" : \"first_order_month\"},inplace = True)\n",
    "repeated_cust = new_tabele[new_tabele[\"first_order_month\"] != new_tabele[\"month\"]]\n",
    "retention_cust = repeated_cust.groupby(\"month\")[\"customer_unique_id\"].count()\n",
    "retention_cust\n"
   ]
  },
  {
   "cell_type": "markdown",
   "id": "d3134143-f0e4-40c9-80c2-095c7a8d78b8",
   "metadata": {},
   "source": [
    "#### d. How the revenues from existing/new customers on month on month basis"
   ]
  },
  {
   "cell_type": "code",
   "execution_count": 190,
   "id": "dbc22087-1b35-4772-8938-4913ef06fda0",
   "metadata": {},
   "outputs": [
    {
     "data": {
      "text/plain": [
       "month\n",
       "May          1581926.26\n",
       "August       1490758.50\n",
       "July         1464308.34\n",
       "March        1427707.11\n",
       "April        1424340.98\n",
       "June         1366920.50\n",
       "February     1151791.05\n",
       "January      1123596.81\n",
       "November     1055072.10\n",
       "December      773733.81\n",
       "October       748926.23\n",
       "September     665879.54\n",
       "Name: price, dtype: float64"
      ]
     },
     "execution_count": 190,
     "metadata": {},
     "output_type": "execute_result"
    }
   ],
   "source": [
    "month_revenue = Orders_orders_item_payment_prod_review_cust.groupby(\"month\")[\"price\"].sum().sort_values(ascending = False)\n",
    "month_revenue \n"
   ]
  },
  {
   "cell_type": "markdown",
   "id": "e63bf7b7-52c1-41ad-be41-0fc1c713df62",
   "metadata": {},
   "source": [
    "#### e. Understand the trends/seasonality of sales, quantity by category, location, month, week, day, time, channel, payment method etc…, "
   ]
  },
  {
   "cell_type": "code",
   "execution_count": 191,
   "id": "19cfde75-322d-403b-94d0-ba966124b53e",
   "metadata": {},
   "outputs": [
    {
     "name": "stdout",
     "output_type": "stream",
     "text": [
      "top 10 category \n",
      " product_category_name\n",
      "Bed_Bath_Table           11990\n",
      "Health_Beauty            10033\n",
      "Sports_Leisure            9005\n",
      "Furniture_Decor           8833\n",
      "Computers_Accessories     8151\n",
      "Housewares                7380\n",
      "Watches_Gifts             6213\n",
      "Telephony                 4726\n",
      "Garden_Tools              4590\n",
      "Auto                      4400\n",
      "Name: order_id, dtype: int64\n",
      "\n",
      "\n",
      "bottom 10 category \n",
      " product_category_name\n",
      "Music                        40\n",
      "Diapers_And_Hygiene          39\n",
      "Flowers                      33\n",
      "Fashion_Sport                31\n",
      "Home_Comfort_2               31\n",
      "Arts_And_Craftmanship        24\n",
      "La_Cuisine                   16\n",
      "Cds_Dvds_Musicals            14\n",
      "Fashion_Childrens_Clothes     8\n",
      "Security_And_Services         2\n",
      "Name: order_id, dtype: int64\n"
     ]
    }
   ],
   "source": [
    "#  Understand the trends/seasonality of sales to quantity by category, location, month\n",
    "\n",
    "cat_quantity = Orders_orders_item_payment_prod_review_cust.groupby(\"product_category_name\")[\"order_id\"].count().sort_values(ascending = False)\n",
    "cat_quantity_max = cat_quantity.head(10)\n",
    "cat_quantity_min = cat_quantity.tail(10)\n",
    "print(f\"top 10 category \\n {cat_quantity_max}\")\n",
    "print(\"\\n\")\n",
    "print(f\"bottom 10 category \\n {cat_quantity_min}\")"
   ]
  },
  {
   "cell_type": "code",
   "execution_count": 192,
   "id": "5cc4f0c8-3e51-481a-9b76-8112d4437ab9",
   "metadata": {},
   "outputs": [
    {
     "data": {
      "image/png": "[encoded data removed]",
      "text/plain": [
       "<Figure size 900x900 with 1 Axes>"
      ]
     },
     "metadata": {},
     "output_type": "display_data"
    }
   ],
   "source": [
    "#  Understand the trends/seasonality of sales by  location,\n",
    "Ordered_product_cust = Orders_orders_item.merge(Customers, on = \"customer_id\" , how = \"left\")\n",
    "Ordered_product_cust= Orders_orders_item.merge(Customers, on = \"customer_id\" , how = \"left\")\n",
    "cust_location = Ordered_product_cust.groupby(\"customer_state\")[\"price\"].sum()\n",
    "\n",
    "\n",
    "# Plot the results using a bar plot\n",
    "\n",
    "plt.figure(figsize = (9,9))\n",
    "sns.barplot(x= cust_location.values, y = cust_location.index)\n",
    "plt.xlabel(\"total sales\")\n",
    "plt.ylabel(\"states\")\n",
    "plt.title(\"Trends/Seasonality of Sales Location\")\n",
    "plt.grid(True,axis=\"x\")\n",
    "plt.show()\n"
   ]
  },
  {
   "cell_type": "code",
   "execution_count": 193,
   "id": "1273e94a-f0e7-4958-a938-7ac07ff5ac7f",
   "metadata": {},
   "outputs": [
    {
     "data": {
      "image/png": "[encoded data removed]",
      "text/plain": [
       "<Figure size 1350x900 with 1 Axes>"
      ]
     },
     "metadata": {},
     "output_type": "display_data"
    }
   ],
   "source": [
    "#  Understand the trends/seasonality of sales by  month,\n",
    "month_sales = Orders_orders_item_payment_prod_review_cust.groupby(\"month\")[\"price\"].sum().sort_values(ascending = False)\n",
    "                                                                              \n",
    "plt.figure(figsize = (13.5,9))\n",
    "sns.barplot(y= month_sales.values, x = month_sales.index)\n",
    "plt.xlabel(\"months\")\n",
    "plt.ylabel(\"total sales\")\n",
    "plt.title(\"Trends/Seasonality of Sales months\")\n",
    "\n",
    "plt.show()\n"
   ]
  },
  {
   "cell_type": "code",
   "execution_count": 194,
   "id": "cb68cee3-e1d3-4d9f-b190-112ba4ec7519",
   "metadata": {},
   "outputs": [
    {
     "name": "stdout",
     "output_type": "stream",
     "text": [
      "top 10 week number interms of sales : \n",
      " week\n",
      "19    430480.65\n",
      "47    426480.18\n",
      "32    426111.42\n",
      "31    413343.98\n",
      "20    400089.87\n",
      "33    393500.42\n",
      "30    374594.62\n",
      "29    365463.73\n",
      "18    361837.41\n",
      "16    351452.66\n",
      "Name: price, dtype: float64\n"
     ]
    }
   ],
   "source": [
    "#  Understand the trends/seasonality of sales by  week,\n",
    "Orders_orders_item_payment_prod_review_cust[\"week\"] = Orders_orders_item_payment_prod_review_cust[\"order_purchase_timestamp\"].dt.isocalendar().week\n",
    "week_sale = Orders_orders_item_payment_prod_review_cust.groupby(\"week\")[\"price\"].sum().sort_values(ascending = False)\n",
    "week_sale_top_10 = week_sale.head(10)\n",
    "print(f\"top 10 week number interms of sales : \\n {week_sale_top_10}\")\n"
   ]
  },
  {
   "cell_type": "code",
   "execution_count": 195,
   "id": "e7d62c17-bd02-49f4-b579-d231c75e202e",
   "metadata": {},
   "outputs": [
    {
     "data": {
      "image/png": "[encoded data removed]",
      "text/plain": [
       "<Figure size 1350x900 with 1 Axes>"
      ]
     },
     "metadata": {},
     "output_type": "display_data"
    }
   ],
   "source": [
    "#  Understand the trends/seasonality of sales by  day,\n",
    "Orders_orders_item_payment_prod_review_cust[\"day\"] = Orders_orders_item_payment_prod_review_cust[\"order_purchase_timestamp\"].dt.day_name()\n",
    "week_sale = Orders_orders_item_payment_prod_review_cust.groupby(\"day\")[\"price\"].sum().sort_values(ascending = False)\n",
    "plt.figure(figsize = (13.5,9))\n",
    "sns.barplot(y= week_sale.values, x = week_sale.index)\n",
    "plt.xlabel(\"days\")\n",
    "plt.ylabel(\"total sales\")\n",
    "\n",
    "plt.title(\"Trends/Seasonality of Sales in days\")\n",
    "plt.show()"
   ]
  },
  {
   "cell_type": "code",
   "execution_count": 196,
   "id": "73feab6b-286b-4f5c-9750-fc3e67904e36",
   "metadata": {},
   "outputs": [
    {
     "name": "stdout",
     "output_type": "stream",
     "text": [
      "Top selling hour is 14\n"
     ]
    },
    {
     "data": {
      "image/png": "[encoded data removed]",
      "text/plain": [
       "<Figure size 1350x900 with 1 Axes>"
      ]
     },
     "metadata": {},
     "output_type": "display_data"
    }
   ],
   "source": [
    "#  Understand the trends/seasonality of sales by  time,\n",
    "Orders_orders_item_payment_prod_review_cust[\"hour\"] = Orders_orders_item_payment_prod_review_cust[\"order_purchase_timestamp\"].dt.hour\n",
    "hour_sale = Orders_orders_item_payment_prod_review_cust.groupby(\"hour\")[\"price\"].sum().sort_values(ascending = False)\n",
    "print(f\"Top selling hour is {hour_sale.index[0]}\")\n",
    "plt.figure(figsize = (13.5,9))\n",
    "sns.lineplot(y= hour_sale.values, x = hour_sale.index,data=hour_sale, marker=\"o\")\n",
    "plt.xlabel(\"hours\")\n",
    "plt.ylabel(\"total sales\")\n",
    "plt.xticks(hour_sale.index)\n",
    "plt.title(\"Trends/Seasonality of Sales in hour\")\n",
    "plt.show()"
   ]
  },
  {
   "cell_type": "code",
   "execution_count": 197,
   "id": "7b501567-c093-4690-8c8a-1df3c5c7396d",
   "metadata": {},
   "outputs": [
    {
     "data": {
      "image/png": "[encoded data removed]",
      "text/plain": [
       "<Figure size 640x480 with 1 Axes>"
      ]
     },
     "metadata": {},
     "output_type": "display_data"
    }
   ],
   "source": [
    "#  Understand the trends/seasonality of sales by  month,\n",
    "Orders_orders_item_payment = Orders_orders_item.merge(Order_payment , on = \"order_id\" , how = \"left\")\n",
    "payment_method = Orders_orders_item_payment.groupby(\"payment_type\")[\"price\"].sum().sort_values(ascending = False)\n",
    "\n",
    "sns.barplot(y= payment_method.values, x = payment_method.index)\n",
    "plt.xlabel(\"payment method\")\n",
    "plt.ylabel(\"total sales\")\n",
    "plt.title(\"Trends/Seasonality of Sales on payment method\")\n",
    "plt.show()"
   ]
  },
  {
   "cell_type": "markdown",
   "id": "79627839-5b12-4f3e-9d9b-8a3e337f9acf",
   "metadata": {},
   "source": [
    "#### f. Popular Products by month, seller, state, category.\n"
   ]
  },
  {
   "cell_type": "code",
   "execution_count": 198,
   "id": "46ae3f48-d7a1-492e-af5e-54070d5f67fb",
   "metadata": {},
   "outputs": [
    {
     "name": "stdout",
     "output_type": "stream",
     "text": [
      "popular product id based on different seller\n",
      "\n",
      "\n"
     ]
    },
    {
     "data": {
      "text/html": [
       "<div>\n",
       "<style scoped>\n",
       "    .dataframe tbody tr th:only-of-type {\n",
       "        vertical-align: middle;\n",
       "    }\n",
       "\n",
       "    .dataframe tbody tr th {\n",
       "        vertical-align: top;\n",
       "    }\n",
       "\n",
       "    .dataframe thead th {\n",
       "        text-align: right;\n",
       "    }\n",
       "</style>\n",
       "<table border=\"1\" class=\"dataframe\">\n",
       "  <thead>\n",
       "    <tr style=\"text-align: right;\">\n",
       "      <th></th>\n",
       "      <th>seller_id</th>\n",
       "      <th>product_id</th>\n",
       "    </tr>\n",
       "  </thead>\n",
       "  <tbody>\n",
       "    <tr>\n",
       "      <th>0</th>\n",
       "      <td>955fee9216a65b617aa5c0531780ce60</td>\n",
       "      <td>aca2eb7d00ea1a7b8ebd4e68314663af</td>\n",
       "    </tr>\n",
       "    <tr>\n",
       "      <th>1</th>\n",
       "      <td>4a3ca9315b744ce9f8e9374361493884</td>\n",
       "      <td>99a4788cb24856965c36a24e339b6058</td>\n",
       "    </tr>\n",
       "    <tr>\n",
       "      <th>2</th>\n",
       "      <td>1f50f920176fa81dab994f9023523100</td>\n",
       "      <td>422879e10f46682990de24d770e7f83d</td>\n",
       "    </tr>\n",
       "    <tr>\n",
       "      <th>3</th>\n",
       "      <td>a1043bafd471dff536d0c462352beb48</td>\n",
       "      <td>d1c427060a0f73f6b889a5c7c61f2ac4</td>\n",
       "    </tr>\n",
       "    <tr>\n",
       "      <th>4</th>\n",
       "      <td>cc419e0650a3c5ba77189a1882b7556a</td>\n",
       "      <td>154e7e31ebfa092203795c972e5804a6</td>\n",
       "    </tr>\n",
       "    <tr>\n",
       "      <th>...</th>\n",
       "      <td>...</td>\n",
       "      <td>...</td>\n",
       "    </tr>\n",
       "    <tr>\n",
       "      <th>3090</th>\n",
       "      <td>70ee69419916dc13e3aed619061f996c</td>\n",
       "      <td>dedb5adefe63796ce6edd624d0ebd8a8</td>\n",
       "    </tr>\n",
       "    <tr>\n",
       "      <th>3091</th>\n",
       "      <td>70f7e8018e3d46c748c92f026aa2585a</td>\n",
       "      <td>8141daa1ca889b50094987ed7858337e</td>\n",
       "    </tr>\n",
       "    <tr>\n",
       "      <th>3092</th>\n",
       "      <td>713e3a23ca5e47786eb6f0d99f94cfac</td>\n",
       "      <td>3fcd8dfe610c62edfb51de2630cd9ef4</td>\n",
       "    </tr>\n",
       "    <tr>\n",
       "      <th>3093</th>\n",
       "      <td>712efd3b68f9686dc856b84abd0f21ae</td>\n",
       "      <td>4466f429e81266e99d1935267aa13329</td>\n",
       "    </tr>\n",
       "    <tr>\n",
       "      <th>3094</th>\n",
       "      <td>702835e4b785b67a084280efca355756</td>\n",
       "      <td>a9c404971d1a5b1cbc2e4070e02731fd</td>\n",
       "    </tr>\n",
       "  </tbody>\n",
       "</table>\n",
       "<p>3095 rows × 2 columns</p>\n",
       "</div>"
      ],
      "text/plain": [
       "                             seller_id                        product_id\n",
       "0     955fee9216a65b617aa5c0531780ce60  aca2eb7d00ea1a7b8ebd4e68314663af\n",
       "1     4a3ca9315b744ce9f8e9374361493884  99a4788cb24856965c36a24e339b6058\n",
       "2     1f50f920176fa81dab994f9023523100  422879e10f46682990de24d770e7f83d\n",
       "3     a1043bafd471dff536d0c462352beb48  d1c427060a0f73f6b889a5c7c61f2ac4\n",
       "4     cc419e0650a3c5ba77189a1882b7556a  154e7e31ebfa092203795c972e5804a6\n",
       "...                                ...                               ...\n",
       "3090  70ee69419916dc13e3aed619061f996c  dedb5adefe63796ce6edd624d0ebd8a8\n",
       "3091  70f7e8018e3d46c748c92f026aa2585a  8141daa1ca889b50094987ed7858337e\n",
       "3092  713e3a23ca5e47786eb6f0d99f94cfac  3fcd8dfe610c62edfb51de2630cd9ef4\n",
       "3093  712efd3b68f9686dc856b84abd0f21ae  4466f429e81266e99d1935267aa13329\n",
       "3094  702835e4b785b67a084280efca355756  a9c404971d1a5b1cbc2e4070e02731fd\n",
       "\n",
       "[3095 rows x 2 columns]"
      ]
     },
     "execution_count": 198,
     "metadata": {},
     "output_type": "execute_result"
    }
   ],
   "source": [
    "# popular product  id by different seller\n",
    "popular_pdt_seller = Orders_orders_item_payment_prod_review_cust.groupby([\"seller_id\",\"product_id\"])[\"product_id\"].count()\n",
    "popular_pdt_seller = popular_pdt_seller.reset_index(name=\"count\")\n",
    "popular_pdt_seller = popular_pdt_seller.sort_values(by=[\"count\"],ascending = False)\n",
    "popular_pdt_seller = popular_pdt_seller.groupby(\"seller_id\").head(1)\n",
    "popular_pdt_seller.reset_index(drop = True, inplace = True)\n",
    "popular_pdt_seller = popular_pdt_seller[[\"seller_id\",\"product_id\"]]\n",
    "print(\"popular product id based on different seller\")\n",
    "print(\"\\n\")\n",
    "popular_pdt_seller"
   ]
  },
  {
   "cell_type": "code",
   "execution_count": 199,
   "id": "cdb931c3-8840-4fd1-99be-65c313e7ff53",
   "metadata": {},
   "outputs": [
    {
     "name": "stdout",
     "output_type": "stream",
     "text": [
      "popular product id based on different month\n",
      "\n",
      "\n",
      "        month                        product_id\n",
      "0     January  aca2eb7d00ea1a7b8ebd4e68314663af\n",
      "1         May  53b36df67ebb7c41585e8d54d6772e08\n",
      "2    November  422879e10f46682990de24d770e7f83d\n",
      "3       April  aca2eb7d00ea1a7b8ebd4e68314663af\n",
      "4        June  99a4788cb24856965c36a24e339b6058\n",
      "5      August  e7cc48a9daff5436f63d3aad9426f28b\n",
      "6    February  3dd2a17168ec895c781a9191c1e95ad7\n",
      "7        July  99a4788cb24856965c36a24e339b6058\n",
      "8       March  aca2eb7d00ea1a7b8ebd4e68314663af\n",
      "9    December  422879e10f46682990de24d770e7f83d\n",
      "10    October  422879e10f46682990de24d770e7f83d\n",
      "11  September  0554911df28fda9fd668ce5ba5949695\n"
     ]
    }
   ],
   "source": [
    "# popular product by month\n",
    "\n",
    "popular_pdt_month = Orders_orders_item_payment_prod_review_cust.groupby([\"month\",\"product_id\"])[\"order_id\"].count().reset_index()\n",
    "popular_pdt_month = popular_pdt_month.sort_values(by = \"order_id\", ascending = False)\n",
    "popular_pdt_month = popular_pdt_month.groupby(\"month\").head(1)\n",
    "popular_pdt_month.reset_index(drop = True, inplace = True)\n",
    "print(\"popular product id based on different month\")\n",
    "print(\"\\n\")\n",
    "print(popular_pdt_month[[\"month\",\"product_id\"]])"
   ]
  },
  {
   "cell_type": "code",
   "execution_count": 200,
   "id": "f32bd9be-de8a-4a84-9851-9825054e9866",
   "metadata": {},
   "outputs": [
    {
     "name": "stdout",
     "output_type": "stream",
     "text": [
      "popular product id based on different state\n",
      "\n",
      "\n",
      "       customer_state                        product_id\n",
      "0      Andhra Pradesh  aca2eb7d00ea1a7b8ebd4e68314663af\n",
      "1             Gujarat  aca2eb7d00ea1a7b8ebd4e68314663af\n",
      "2        Chhattisgarh  422879e10f46682990de24d770e7f83d\n",
      "3      Madhya Pradesh  d1c427060a0f73f6b889a5c7c61f2ac4\n",
      "4           Karnataka  422879e10f46682990de24d770e7f83d\n",
      "5               Delhi  53759a2ecddad2bb87a079a1f1519f73\n",
      "6             Haryana  35afc973633aaeb6b877ff57b2793310\n",
      "7     Jammu & Kashmir  89b190a046022486c635022524a974a8\n",
      "8              Kerala  aca2eb7d00ea1a7b8ebd4e68314663af\n",
      "9         Maharashtra  99a4788cb24856965c36a24e339b6058\n",
      "10         Tamil Nadu  b532349fe46b38fbc7bb3914c1bdae07\n",
      "11  Arunachal Pradesh  03e1c946c0ddfc58724ff262aef08dff\n",
      "12             Punjab  60ee9861f35c13d4a3a2bc10e86bb05b\n",
      "13      Uttar Pradesh  3dd2a17168ec895c781a9191c1e95ad7\n",
      "14          Rajasthan  3dd2a17168ec895c781a9191c1e95ad7\n",
      "15             Orissa  aca2eb7d00ea1a7b8ebd4e68314663af\n",
      "16   Himachal Pradesh  422879e10f46682990de24d770e7f83d\n",
      "17        West Bengal  99a4788cb24856965c36a24e339b6058\n",
      "18        Uttaranchal  f919da4f716dc149cef4551a322001fd\n",
      "19                Goa  dd231637766e756fd1cf2fd80501fce1\n"
     ]
    }
   ],
   "source": [
    "Orders_orders_item_payment_prod_cust = Orders_orders_item_payment_prod.merge(Customers , on = \"customer_id\" , how = \"left\")\n",
    "# popular product by different state\n",
    "popular_pdt_state = Orders_orders_item_payment_prod_cust.groupby([\"customer_state\",\"product_id\"])[\"order_id\"].count().reset_index()\n",
    "popular_pdt_state = popular_pdt_state.sort_values(by = \"order_id\", ascending = False)\n",
    "popular_pdt_state = popular_pdt_state.groupby(\"customer_state\").head(1)\n",
    "popular_pdt_state.reset_index(drop = True, inplace = True)\n",
    "print(\"popular product id based on different state\")\n",
    "print(\"\\n\")\n",
    "print(popular_pdt_state[[\"customer_state\",\"product_id\"]])\n"
   ]
  },
  {
   "cell_type": "code",
   "execution_count": 201,
   "id": "38cb31be-4ff8-47e7-9d5a-5b6d270948b1",
   "metadata": {},
   "outputs": [
    {
     "name": "stdout",
     "output_type": "stream",
     "text": [
      "popular product id based on different categories\n",
      "\n",
      "\n",
      "        product_category_name                        product_id\n",
      "0             Furniture_Decor  aca2eb7d00ea1a7b8ebd4e68314663af\n",
      "1              Bed_Bath_Table  99a4788cb24856965c36a24e339b6058\n",
      "2                Garden_Tools  422879e10f46682990de24d770e7f83d\n",
      "3       Computers_Accessories  d1c427060a0f73f6b889a5c7c61f2ac4\n",
      "4               Watches_Gifts  53b36df67ebb7c41585e8d54d6772e08\n",
      "..                        ...                               ...\n",
      "66              Fashion_Sport  e8f7d2639ff8caa8b86e5973295898b7\n",
      "67                      Music  2848023ffcfb063bb7aa0d0c447bd116\n",
      "68                 La_Cuisine  33900d427fa4bd3f509cdacda72e84a3\n",
      "69  Fashion_Childrens_Clothes  57bdf3098169cccdb62221bd3e089cbd\n",
      "70      Security_And_Services  8db75af9aed3315374db44d7860e25da\n",
      "\n",
      "[71 rows x 2 columns]\n"
     ]
    }
   ],
   "source": [
    "# popular product by categories\n",
    "popular_pdt_cat = Orders_orders_item_payment_prod.groupby([\"product_category_name\",\"product_id\"])[\"order_id\"].count().reset_index()\n",
    "popular_pdt_cat = popular_pdt_cat.sort_values(by = \"order_id\", ascending = False)\n",
    "popular_pdt_cat = popular_pdt_cat.groupby(\"product_category_name\").head(1)\n",
    "popular_pdt_cat.reset_index(drop = True, inplace = True)\n",
    "print(\"popular product id based on different categories\")\n",
    "print(\"\\n\")\n",
    "print(popular_pdt_cat[[\"product_category_name\",\"product_id\"]])\n"
   ]
  },
  {
   "cell_type": "markdown",
   "id": "5054508e-37c6-405f-9512-303013482769",
   "metadata": {},
   "source": [
    "#### g. Popular categories by state, month"
   ]
  },
  {
   "cell_type": "code",
   "execution_count": 202,
   "id": "a977fa89-93ec-4f7b-bdbb-b815caa22f8a",
   "metadata": {},
   "outputs": [
    {
     "name": "stdout",
     "output_type": "stream",
     "text": [
      "popular categories based on different state\n",
      "\n",
      "\n",
      "       customer_state            product_category_name\n",
      "0      Andhra Pradesh                   Bed_Bath_Table\n",
      "1             Gujarat                   Bed_Bath_Table\n",
      "2        Chhattisgarh                   Bed_Bath_Table\n",
      "3           Karnataka                   Bed_Bath_Table\n",
      "4      Madhya Pradesh                   Bed_Bath_Table\n",
      "5               Delhi                    Health_Beauty\n",
      "6             Haryana                   Bed_Bath_Table\n",
      "7         Maharashtra                   Bed_Bath_Table\n",
      "8          Tamil Nadu                   Bed_Bath_Table\n",
      "9     Jammu & Kashmir                   Bed_Bath_Table\n",
      "10             Kerala                   Bed_Bath_Table\n",
      "11  Arunachal Pradesh                   Bed_Bath_Table\n",
      "12      Uttar Pradesh                    Health_Beauty\n",
      "13          Rajasthan                   Sports_Leisure\n",
      "14   Himachal Pradesh                   Bed_Bath_Table\n",
      "15             Orissa                   Bed_Bath_Table\n",
      "16             Punjab                    Health_Beauty\n",
      "17        West Bengal                    Health_Beauty\n",
      "18        Uttaranchal                       Cool_Stuff\n",
      "19                Goa  Construction_Tools_Construction\n"
     ]
    }
   ],
   "source": [
    "Orders_orders_item_payment_prod_cust = Orders_orders_item_payment_prod.merge(Customers , on = \"customer_id\" , how = \"left\")\n",
    "# popular product by different state\n",
    "popular_pdt_state = Orders_orders_item_payment_prod_cust.groupby([\"customer_state\",\"product_category_name\"])[\"order_id\"].count().reset_index()\n",
    "popular_pdt_state = popular_pdt_state.sort_values(by = \"order_id\", ascending = False)\n",
    "popular_pdt_state = popular_pdt_state.groupby(\"customer_state\").head(1)\n",
    "popular_pdt_state.reset_index(drop = True, inplace = True)\n",
    "print(\"popular categories based on different state\")\n",
    "print(\"\\n\")\n",
    "print(popular_pdt_state[[\"customer_state\",\"product_category_name\"]])\n"
   ]
  },
  {
   "cell_type": "code",
   "execution_count": 203,
   "id": "94a6c216-d739-4de8-8cd6-b9e2ea127633",
   "metadata": {},
   "outputs": [
    {
     "name": "stdout",
     "output_type": "stream",
     "text": [
      "popular categories based on different month\n",
      "\n",
      "\n",
      "        month  product_category_name\n",
      "0        July         Bed_Bath_Table\n",
      "1      August         Bed_Bath_Table\n",
      "2        June         Bed_Bath_Table\n",
      "3         May         Bed_Bath_Table\n",
      "4       March         Bed_Bath_Table\n",
      "5    February  Computers_Accessories\n",
      "6       April         Bed_Bath_Table\n",
      "7    November         Bed_Bath_Table\n",
      "8     January         Bed_Bath_Table\n",
      "9     October         Bed_Bath_Table\n",
      "10   December         Bed_Bath_Table\n",
      "11  September         Bed_Bath_Table\n"
     ]
    }
   ],
   "source": [
    "# popular product by month\n",
    "\n",
    "popular_pdt_month = Orders_orders_item_payment_prod_review_cust.groupby([\"month\",\"product_category_name\"])[\"order_id\"].count().reset_index()\n",
    "popular_pdt_month = popular_pdt_month.sort_values(by = \"order_id\", ascending = False)\n",
    "popular_pdt_month = popular_pdt_month.groupby(\"month\").head(1)\n",
    "popular_pdt_month.reset_index(drop = True, inplace = True)\n",
    "print(\"popular categories based on different month\")\n",
    "print(\"\\n\")\n",
    "print(popular_pdt_month[[\"month\",\"product_category_name\"]])"
   ]
  },
  {
   "cell_type": "markdown",
   "id": "0debc5a9-4001-4a96-a34f-7020ce989370",
   "metadata": {},
   "source": [
    "#### h. List top 10 most expensive products sorted by price"
   ]
  },
  {
   "cell_type": "code",
   "execution_count": 204,
   "id": "5ff00272-642b-44b3-b577-12a7acdd1064",
   "metadata": {},
   "outputs": [
    {
     "data": {
      "text/html": [
       "<div>\n",
       "<style scoped>\n",
       "    .dataframe tbody tr th:only-of-type {\n",
       "        vertical-align: middle;\n",
       "    }\n",
       "\n",
       "    .dataframe tbody tr th {\n",
       "        vertical-align: top;\n",
       "    }\n",
       "\n",
       "    .dataframe thead th {\n",
       "        text-align: right;\n",
       "    }\n",
       "</style>\n",
       "<table border=\"1\" class=\"dataframe\">\n",
       "  <thead>\n",
       "    <tr style=\"text-align: right;\">\n",
       "      <th></th>\n",
       "      <th>product_id</th>\n",
       "      <th>price</th>\n",
       "    </tr>\n",
       "  </thead>\n",
       "  <tbody>\n",
       "    <tr>\n",
       "      <th>0</th>\n",
       "      <td>489ae2aa008f021502940f251d4cce7f</td>\n",
       "      <td>6735.00</td>\n",
       "    </tr>\n",
       "    <tr>\n",
       "      <th>1</th>\n",
       "      <td>69c590f7ffc7bf8db97190b6cb6ed62e</td>\n",
       "      <td>6729.00</td>\n",
       "    </tr>\n",
       "    <tr>\n",
       "      <th>2</th>\n",
       "      <td>1bdf5e6731585cf01aa8169c7028d6ad</td>\n",
       "      <td>6499.00</td>\n",
       "    </tr>\n",
       "    <tr>\n",
       "      <th>3</th>\n",
       "      <td>a6492cc69376c469ab6f61d8f44de961</td>\n",
       "      <td>4799.00</td>\n",
       "    </tr>\n",
       "    <tr>\n",
       "      <th>4</th>\n",
       "      <td>c3ed642d592594bb648ff4a04cee2747</td>\n",
       "      <td>4690.00</td>\n",
       "    </tr>\n",
       "    <tr>\n",
       "      <th>5</th>\n",
       "      <td>259037a6a41845e455183f89c5035f18</td>\n",
       "      <td>4590.00</td>\n",
       "    </tr>\n",
       "    <tr>\n",
       "      <th>6</th>\n",
       "      <td>a1beef8f3992dbd4cd8726796aa69c53</td>\n",
       "      <td>4399.87</td>\n",
       "    </tr>\n",
       "    <tr>\n",
       "      <th>7</th>\n",
       "      <td>6cdf8fc1d741c76586d8b6b15e9eef30</td>\n",
       "      <td>4099.99</td>\n",
       "    </tr>\n",
       "    <tr>\n",
       "      <th>8</th>\n",
       "      <td>dd113cb02b2af9c8e5787e8f1f0722f6</td>\n",
       "      <td>4059.00</td>\n",
       "    </tr>\n",
       "    <tr>\n",
       "      <th>9</th>\n",
       "      <td>6902c1962dd19d540807d0ab8fade5c6</td>\n",
       "      <td>3999.90</td>\n",
       "    </tr>\n",
       "  </tbody>\n",
       "</table>\n",
       "</div>"
      ],
      "text/plain": [
       "                         product_id    price\n",
       "0  489ae2aa008f021502940f251d4cce7f  6735.00\n",
       "1  69c590f7ffc7bf8db97190b6cb6ed62e  6729.00\n",
       "2  1bdf5e6731585cf01aa8169c7028d6ad  6499.00\n",
       "3  a6492cc69376c469ab6f61d8f44de961  4799.00\n",
       "4  c3ed642d592594bb648ff4a04cee2747  4690.00\n",
       "5  259037a6a41845e455183f89c5035f18  4590.00\n",
       "6  a1beef8f3992dbd4cd8726796aa69c53  4399.87\n",
       "7  6cdf8fc1d741c76586d8b6b15e9eef30  4099.99\n",
       "8  dd113cb02b2af9c8e5787e8f1f0722f6  4059.00\n",
       "9  6902c1962dd19d540807d0ab8fade5c6  3999.90"
      ]
     },
     "execution_count": 204,
     "metadata": {},
     "output_type": "execute_result"
    }
   ],
   "source": [
    "top_10_expensive_products = Order_items.sort_values(by=\"price\", ascending=False).head(10)\n",
    "top_10_expensive_products = top_10_expensive_products[[\"product_id\",\"price\"]].reset_index(drop = True)\n",
    "top_10_expensive_products"
   ]
  },
  {
   "cell_type": "markdown",
   "id": "b5a2e925-fd9c-4017-bed7-f81e9b61dcc4",
   "metadata": {},
   "source": [
    "### 2. Performing Customers/sellers Segmentation"
   ]
  },
  {
   "cell_type": "markdown",
   "id": "1447fc76-c8e7-4fa1-ae41-2a8ea10db074",
   "metadata": {},
   "source": [
    "### a. Divide the customers into groups based on the revenue generated"
   ]
  },
  {
   "cell_type": "code",
   "execution_count": 205,
   "id": "cac54169-243d-4f8b-b43e-8aa2a6a8d168",
   "metadata": {},
   "outputs": [
    {
     "data": {
      "text/html": [
       "<div>\n",
       "<style scoped>\n",
       "    .dataframe tbody tr th:only-of-type {\n",
       "        vertical-align: middle;\n",
       "    }\n",
       "\n",
       "    .dataframe tbody tr th {\n",
       "        vertical-align: top;\n",
       "    }\n",
       "\n",
       "    .dataframe thead th {\n",
       "        text-align: right;\n",
       "    }\n",
       "</style>\n",
       "<table border=\"1\" class=\"dataframe\">\n",
       "  <thead>\n",
       "    <tr style=\"text-align: right;\">\n",
       "      <th></th>\n",
       "      <th>customer_unique_id</th>\n",
       "      <th>Total_revenue</th>\n",
       "      <th>revenue_group</th>\n",
       "    </tr>\n",
       "  </thead>\n",
       "  <tbody>\n",
       "    <tr>\n",
       "      <th>0</th>\n",
       "      <td>0000366f3b9a7992bf8c76cfdf3221e2</td>\n",
       "      <td>141.90</td>\n",
       "      <td>mid revenue</td>\n",
       "    </tr>\n",
       "    <tr>\n",
       "      <th>1</th>\n",
       "      <td>0000b849f77a49e4a4ce2b2a4ca5be3f</td>\n",
       "      <td>27.19</td>\n",
       "      <td>low revenue</td>\n",
       "    </tr>\n",
       "    <tr>\n",
       "      <th>2</th>\n",
       "      <td>0000f46a3911fa3c0805444483337064</td>\n",
       "      <td>86.22</td>\n",
       "      <td>mid revenue</td>\n",
       "    </tr>\n",
       "    <tr>\n",
       "      <th>3</th>\n",
       "      <td>0000f6ccb0745a6a4b88665a16c9f078</td>\n",
       "      <td>43.62</td>\n",
       "      <td>low revenue</td>\n",
       "    </tr>\n",
       "    <tr>\n",
       "      <th>4</th>\n",
       "      <td>0004aac84e0df4da2b147fca70cf8255</td>\n",
       "      <td>196.89</td>\n",
       "      <td>high revenue</td>\n",
       "    </tr>\n",
       "    <tr>\n",
       "      <th>...</th>\n",
       "      <td>...</td>\n",
       "      <td>...</td>\n",
       "      <td>...</td>\n",
       "    </tr>\n",
       "    <tr>\n",
       "      <th>95415</th>\n",
       "      <td>fffcf5a5ff07b0908bd4e2dbc735a684</td>\n",
       "      <td>4134.84</td>\n",
       "      <td>high revenue</td>\n",
       "    </tr>\n",
       "    <tr>\n",
       "      <th>95416</th>\n",
       "      <td>fffea47cd6d3cc0a88bd621562a9d061</td>\n",
       "      <td>84.58</td>\n",
       "      <td>mid revenue</td>\n",
       "    </tr>\n",
       "    <tr>\n",
       "      <th>95417</th>\n",
       "      <td>ffff371b4d645b6ecea244b27531430a</td>\n",
       "      <td>112.46</td>\n",
       "      <td>mid revenue</td>\n",
       "    </tr>\n",
       "    <tr>\n",
       "      <th>95418</th>\n",
       "      <td>ffff5962728ec6157033ef9805bacc48</td>\n",
       "      <td>133.69</td>\n",
       "      <td>mid revenue</td>\n",
       "    </tr>\n",
       "    <tr>\n",
       "      <th>95419</th>\n",
       "      <td>ffffd2657e2aad2907e67c3e9daecbeb</td>\n",
       "      <td>71.56</td>\n",
       "      <td>low revenue</td>\n",
       "    </tr>\n",
       "  </tbody>\n",
       "</table>\n",
       "<p>95420 rows × 3 columns</p>\n",
       "</div>"
      ],
      "text/plain": [
       "                     customer_unique_id  Total_revenue revenue_group\n",
       "0      0000366f3b9a7992bf8c76cfdf3221e2         141.90   mid revenue\n",
       "1      0000b849f77a49e4a4ce2b2a4ca5be3f          27.19   low revenue\n",
       "2      0000f46a3911fa3c0805444483337064          86.22   mid revenue\n",
       "3      0000f6ccb0745a6a4b88665a16c9f078          43.62   low revenue\n",
       "4      0004aac84e0df4da2b147fca70cf8255         196.89  high revenue\n",
       "...                                 ...            ...           ...\n",
       "95415  fffcf5a5ff07b0908bd4e2dbc735a684        4134.84  high revenue\n",
       "95416  fffea47cd6d3cc0a88bd621562a9d061          84.58   mid revenue\n",
       "95417  ffff371b4d645b6ecea244b27531430a         112.46   mid revenue\n",
       "95418  ffff5962728ec6157033ef9805bacc48         133.69   mid revenue\n",
       "95419  ffffd2657e2aad2907e67c3e9daecbeb          71.56   low revenue\n",
       "\n",
       "[95420 rows x 3 columns]"
      ]
     },
     "execution_count": 205,
     "metadata": {},
     "output_type": "execute_result"
    }
   ],
   "source": [
    "grouped = Orders_orders_item_payment_prod_review_cust.groupby([\"customer_unique_id\"])[\"payment_value\"].sum().reset_index()\n",
    "grouped.rename(columns = {\"payment_value\" : \"Total_revenue\"}, inplace = True)\n",
    "cut_label = [\"low revenue\",\"mid revenue\",\"high revenue\"]\n",
    "grouped[\"revenue_group\"] = pd.qcut(grouped[\"Total_revenue\"],q =[0, 0.33, 0.67, 1],labels = cut_label)\n",
    "grouped\n"
   ]
  },
  {
   "cell_type": "markdown",
   "id": "79c8266b-c080-447e-9db0-0d68b3dd2e26",
   "metadata": {},
   "source": [
    "#### b. Divide the sellers into groups based on the revenue generated"
   ]
  },
  {
   "cell_type": "code",
   "execution_count": 206,
   "id": "8b0f2aff-227d-4a1d-b4d7-c94c5d9bacbe",
   "metadata": {},
   "outputs": [
    {
     "data": {
      "text/html": [
       "<div>\n",
       "<style scoped>\n",
       "    .dataframe tbody tr th:only-of-type {\n",
       "        vertical-align: middle;\n",
       "    }\n",
       "\n",
       "    .dataframe tbody tr th {\n",
       "        vertical-align: top;\n",
       "    }\n",
       "\n",
       "    .dataframe thead th {\n",
       "        text-align: right;\n",
       "    }\n",
       "</style>\n",
       "<table border=\"1\" class=\"dataframe\">\n",
       "  <thead>\n",
       "    <tr style=\"text-align: right;\">\n",
       "      <th></th>\n",
       "      <th>seller_id</th>\n",
       "      <th>Total_revenue</th>\n",
       "      <th>revenue_group</th>\n",
       "    </tr>\n",
       "  </thead>\n",
       "  <tbody>\n",
       "    <tr>\n",
       "      <th>0</th>\n",
       "      <td>0015a82c2db000af6aaaf3ae2ecb0532</td>\n",
       "      <td>2748.06</td>\n",
       "      <td>mid revenue</td>\n",
       "    </tr>\n",
       "    <tr>\n",
       "      <th>1</th>\n",
       "      <td>001cca7ae9ae17fb1caed9dfb1094831</td>\n",
       "      <td>48349.22</td>\n",
       "      <td>high revenue</td>\n",
       "    </tr>\n",
       "    <tr>\n",
       "      <th>2</th>\n",
       "      <td>001e6ad469a905060d959994f1b41e4f</td>\n",
       "      <td>267.94</td>\n",
       "      <td>low revenue</td>\n",
       "    </tr>\n",
       "    <tr>\n",
       "      <th>3</th>\n",
       "      <td>002100f778ceb8431b7a1020ff7ab48f</td>\n",
       "      <td>2445.64</td>\n",
       "      <td>mid revenue</td>\n",
       "    </tr>\n",
       "    <tr>\n",
       "      <th>4</th>\n",
       "      <td>003554e2dce176b5555353e4f3555ac8</td>\n",
       "      <td>139.38</td>\n",
       "      <td>low revenue</td>\n",
       "    </tr>\n",
       "    <tr>\n",
       "      <th>...</th>\n",
       "      <td>...</td>\n",
       "      <td>...</td>\n",
       "      <td>...</td>\n",
       "    </tr>\n",
       "    <tr>\n",
       "      <th>3090</th>\n",
       "      <td>ffcfefa19b08742c5d315f2791395ee5</td>\n",
       "      <td>79.52</td>\n",
       "      <td>low revenue</td>\n",
       "    </tr>\n",
       "    <tr>\n",
       "      <th>3091</th>\n",
       "      <td>ffdd9f82b9a447f6f8d4b91554cc7dd3</td>\n",
       "      <td>3607.52</td>\n",
       "      <td>high revenue</td>\n",
       "    </tr>\n",
       "    <tr>\n",
       "      <th>3092</th>\n",
       "      <td>ffeee66ac5d5a62fe688b9d26f83f534</td>\n",
       "      <td>2259.55</td>\n",
       "      <td>mid revenue</td>\n",
       "    </tr>\n",
       "    <tr>\n",
       "      <th>3093</th>\n",
       "      <td>fffd5413c0700ac820c7069d66d98c89</td>\n",
       "      <td>12834.27</td>\n",
       "      <td>high revenue</td>\n",
       "    </tr>\n",
       "    <tr>\n",
       "      <th>3094</th>\n",
       "      <td>ffff564a4f9085cd26170f4732393726</td>\n",
       "      <td>1770.86</td>\n",
       "      <td>mid revenue</td>\n",
       "    </tr>\n",
       "  </tbody>\n",
       "</table>\n",
       "<p>3095 rows × 3 columns</p>\n",
       "</div>"
      ],
      "text/plain": [
       "                             seller_id  Total_revenue revenue_group\n",
       "0     0015a82c2db000af6aaaf3ae2ecb0532        2748.06   mid revenue\n",
       "1     001cca7ae9ae17fb1caed9dfb1094831       48349.22  high revenue\n",
       "2     001e6ad469a905060d959994f1b41e4f         267.94   low revenue\n",
       "3     002100f778ceb8431b7a1020ff7ab48f        2445.64   mid revenue\n",
       "4     003554e2dce176b5555353e4f3555ac8         139.38   low revenue\n",
       "...                                ...            ...           ...\n",
       "3090  ffcfefa19b08742c5d315f2791395ee5          79.52   low revenue\n",
       "3091  ffdd9f82b9a447f6f8d4b91554cc7dd3        3607.52  high revenue\n",
       "3092  ffeee66ac5d5a62fe688b9d26f83f534        2259.55   mid revenue\n",
       "3093  fffd5413c0700ac820c7069d66d98c89       12834.27  high revenue\n",
       "3094  ffff564a4f9085cd26170f4732393726        1770.86   mid revenue\n",
       "\n",
       "[3095 rows x 3 columns]"
      ]
     },
     "execution_count": 206,
     "metadata": {},
     "output_type": "execute_result"
    }
   ],
   "source": [
    "order_order_item = Order_items.merge(Orders, on = \"order_id\" , how = \"left\")\n",
    "order_order_item_pay = order_order_item.merge(Order_payment, on = \"order_id\" , how = \"left\")\n",
    "grouped = order_order_item_pay.groupby([\"seller_id\"])[\"payment_value\"].sum().reset_index()\n",
    "grouped.rename(columns = {\"payment_value\" : \"Total_revenue\"}, inplace = True)\n",
    "cut_label = [\"low revenue\",\"mid revenue\",\"high revenue\"]\n",
    "grouped[\"revenue_group\"] = pd.qcut(grouped[\"Total_revenue\"],q =[0, 0.33, 0.67, 1],labels = cut_label)\n",
    "grouped"
   ]
  },
  {
   "cell_type": "markdown",
   "id": "30cc2bfd-f767-4a78-8fa7-daea376564fb",
   "metadata": {},
   "source": [
    "#### 3. Cross-Selling (Which products are selling together)"
   ]
  },
  {
   "cell_type": "code",
   "execution_count": 207,
   "id": "36e88349-a373-41f6-92e9-fa79a3546fc7",
   "metadata": {},
   "outputs": [
    {
     "data": {
      "text/plain": [
       "[(('422879e10f46682990de24d770e7f83d', '422879e10f46682990de24d770e7f83d'),\n",
       "  279),\n",
       " (('ee3d532c8a438679776d222e997606b3', 'ee3d532c8a438679776d222e997606b3'),\n",
       "  195),\n",
       " (('9571759451b1d780ee7c15012ea109d4', '9571759451b1d780ee7c15012ea109d4'),\n",
       "  190),\n",
       " (('a62e25e09e05e6faf31d90c6ec1aa3d1', 'a62e25e09e05e6faf31d90c6ec1aa3d1'),\n",
       "  141),\n",
       " (('368c6c730842d78016ad823897a372db', '368c6c730842d78016ad823897a372db'),\n",
       "  139),\n",
       " (('b532349fe46b38fbc7bb3914c1bdae07', 'b532349fe46b38fbc7bb3914c1bdae07'),\n",
       "  134),\n",
       " (('d5991653e037ccb7af6ed7d94246b249', 'd5991653e037ccb7af6ed7d94246b249'),\n",
       "  123),\n",
       " (('53759a2ecddad2bb87a079a1f1519f73', '53759a2ecddad2bb87a079a1f1519f73'),\n",
       "  119),\n",
       " (('89b190a046022486c635022524a974a8', '89b190a046022486c635022524a974a8'),\n",
       "  115),\n",
       " (('aca2eb7d00ea1a7b8ebd4e68314663af', 'aca2eb7d00ea1a7b8ebd4e68314663af'),\n",
       "  111)]"
      ]
     },
     "execution_count": 207,
     "metadata": {},
     "output_type": "execute_result"
    }
   ],
   "source": [
    "\n",
    "# Group order items by order ID\n",
    "order_items_grouped = Order_items.groupby('order_id')['product_id'].apply(list)\n",
    "\n",
    "# Get all combinations of 2 products that were bought together in each transaction\n",
    "all_combinations = [comb for order in order_items_grouped for comb in combinations(order, 2)]\n",
    "\n",
    "# Count the number of times each product combination appears across all transactions\n",
    "combination_counts = dict(Counter(all_combinations))\n",
    "\n",
    "# Sort the product combinations in descending order of frequency and select the top 10 combinations\n",
    "top_10_combinations = sorted(combination_counts.items(), key=lambda x: x[1], reverse=True)[:10]\n",
    "top_10_combinations"
   ]
  },
  {
   "cell_type": "markdown",
   "id": "692a1771-6a6d-43d0-9a31-9009349d2d8c",
   "metadata": {},
   "source": [
    "### 4. Payment Behaviour\n"
   ]
  },
  {
   "cell_type": "markdown",
   "id": "92f33133-65f0-40e9-a4ab-2a6ffb2183a2",
   "metadata": {
    "tags": []
   },
   "source": [
    "#### a. How customers are paying?\n"
   ]
  },
  {
   "cell_type": "code",
   "execution_count": 208,
   "id": "f062cd51-3883-4674-bd3d-0ae5bc2d6f44",
   "metadata": {},
   "outputs": [
    {
     "name": "stdout",
     "output_type": "stream",
     "text": [
      " customers are paying through :  \n",
      " payment_type\n",
      "UPI            22347\n",
      "credit_card    84895\n",
      "debit_card      1653\n",
      "voucher         6123\n",
      "Name: order_id, dtype: int64\n"
     ]
    }
   ],
   "source": [
    "Orders_orders_item_payment.dropna(inplace = True)\n",
    "Orders_orders_item_payment[Orders_orders_item_payment[\"payment_type\"].isna()]\n",
    "payment_method = Orders_orders_item_payment.groupby(\"payment_type\")[\"order_id\"].count()\n",
    "print(f\" customers are paying through :  \\n {payment_method}\")"
   ]
  },
  {
   "cell_type": "markdown",
   "id": "077671e6-d6f8-43fd-9d07-928d476cc997",
   "metadata": {},
   "source": [
    "#### b. Which payment channels are used by most customers?"
   ]
  },
  {
   "cell_type": "code",
   "execution_count": 209,
   "id": "eb682b4f-0b01-4a4b-a2b3-1f411e484046",
   "metadata": {},
   "outputs": [
    {
     "name": "stdout",
     "output_type": "stream",
     "text": [
      " customers are paying through :  \n",
      "              payment_value              percentage\n",
      "                     count          sum           \n",
      "payment_type                                      \n",
      "UPI                  22347   3940999.14      19.43\n",
      "credit_card          84895  15189911.87      73.81\n",
      "debit_card            1653    246373.27       1.44\n",
      "voucher               6123    396110.42       5.32\n"
     ]
    }
   ],
   "source": [
    "payment_method = Orders_orders_item_payment.groupby(\"payment_type\").agg({'payment_value': ['count', 'sum']})\n",
    "total_payment = payment_method[\"payment_value\"][\"count\"].sum()\n",
    "payment_method[\"percentage\"] = round((payment_method[\"payment_value\"][\"count\"]/total_payment)*100,2)\n",
    "print(f\" customers are paying through :  \\n {payment_method}\")"
   ]
  },
  {
   "cell_type": "markdown",
   "id": "5b9167d6-b87e-4e70-a337-b1b0d4591805",
   "metadata": {},
   "source": [
    "\n",
    "### 5. Customer satisfaction towards category & product\n"
   ]
  },
  {
   "cell_type": "markdown",
   "id": "61b07b14-99da-4b1a-8f39-f0204637899a",
   "metadata": {
    "tags": []
   },
   "source": [
    "#### a. Which categories (top 10) are maximum rated & minimum rated?\n"
   ]
  },
  {
   "cell_type": "code",
   "execution_count": 210,
   "id": "f30934f3-fab1-482c-927c-2d2da6a246ae",
   "metadata": {},
   "outputs": [
    {
     "name": "stdout",
     "output_type": "stream",
     "text": [
      "maximum rated categories are \n",
      " product_category_name\n",
      "Cds_Dvds_Musicals                        4.64\n",
      "Fashion_Childrens_Clothes                4.50\n",
      "Books_General_Interest                   4.43\n",
      "Books_Imported                           4.42\n",
      "Books_Technical                          4.35\n",
      "Costruction_Tools_Tools                  4.33\n",
      "Small_Appliances_Home_Oven_And_Coffee    4.32\n",
      "Food_Drink                               4.31\n",
      "Luggage_Accessories                      4.29\n",
      "Fashion_Sport                            4.26\n",
      "Name: review_score, dtype: float64\n",
      "\n",
      "\n",
      "minumum rated categories are \n",
      " product_category_name\n",
      "Security_And_Services                2.50\n",
      "Diapers_And_Hygiene                  3.26\n",
      "Home_Comfort_2                       3.39\n",
      "Office_Furniture                     3.52\n",
      "Fashion_Male_Clothing                3.53\n",
      "Fixed_Telephony                      3.66\n",
      "Fashio_Female_Clothing               3.78\n",
      "Furniture_Mattress_And_Upholstery    3.80\n",
      "Audio                                3.82\n",
      "Construction_Tools_Safety            3.83\n",
      "Name: review_score, dtype: float64\n"
     ]
    }
   ],
   "source": [
    "Orders_orders_item_payment_prod_review = Orders_orders_item_payment_prod.merge(Order_review_rating, on = \"order_id\"\t,how = \"left\")\n",
    "max_rated_cat = Orders_orders_item_payment_prod_review.groupby(\"product_category_name\")[\"review_score\"].mean().sort_values(ascending = False)\n",
    "max_rated_cat = max_rated_cat.head(10)\n",
    "min_rated_cat = Orders_orders_item_payment_prod_review.groupby(\"product_category_name\")[\"review_score\"].mean().sort_values()\n",
    "min_rated_cat = min_rated_cat.head(10)\n",
    "print(f\"maximum rated categories are \\n {round(max_rated_cat,2)}\")\n",
    "print(\"\\n\")\n",
    "print(f\"minumum rated categories are \\n {round(min_rated_cat,2)}\")"
   ]
  },
  {
   "cell_type": "markdown",
   "id": "b7ec295a-6072-4fcf-8d79-fe88f52b3ea1",
   "metadata": {},
   "source": [
    "#### b. Which products (top10) are maximum rated & minimum rated?\n"
   ]
  },
  {
   "cell_type": "code",
   "execution_count": 211,
   "id": "0581108c-afe8-4015-a215-fa19e4b1d2a2",
   "metadata": {},
   "outputs": [
    {
     "name": "stdout",
     "output_type": "stream",
     "text": [
      "maximum rated product are \n",
      " product_id\n",
      "00066f42aeeb9f3007548bb9d3f33c38    5.0\n",
      "86743ff92eee3d16b7df59cddd583b8c    5.0\n",
      "868ceb027ab706a4dee42e2220006b85    5.0\n",
      "868969d3a93aeeab7bfcd4fc3d3d65de    5.0\n",
      "868766ed2172644fdd977d6bd395a107    5.0\n",
      "8684bd8f93b4f4038d07188a23811e93    5.0\n",
      "867c96d2bb67aba6500a4c509cf76072    5.0\n",
      "867b820367ec206b38a357f2c12454b7    5.0\n",
      "867901d7e8488fb97f1fb538c09d476e    5.0\n",
      "865bfa00c1dad8f4146d3c2765f051ca    5.0\n",
      "Name: review_score, dtype: float64\n",
      "\n",
      "\n",
      "minumum rated product are \n",
      " product_id\n",
      "592cc6634d2c783d297effc0b828bc37    1.0\n",
      "8c4456c061013adccb1ba4cbce2d0365    1.0\n",
      "28c8150eb44ec8106c8f061afd9c3e9f    1.0\n",
      "28c95d7653177449fd4b6fc7adb63ce9    1.0\n",
      "28d6d6a10ceb0636ae572e7efafef612    1.0\n",
      "28d7da9ebe96bfda54aed060b68b23a1    1.0\n",
      "8c35dc99b37ba51780800ba049ed3616    1.0\n",
      "c43704bc45a1f1a58de5d2b5ba0b0d12    1.0\n",
      "8c0c5d88d9ec2bc8e02395bda8ea52f2    1.0\n",
      "28fe66c8a81afe9be7829f40a5fae9ee    1.0\n",
      "Name: review_score, dtype: float64\n"
     ]
    }
   ],
   "source": [
    "Orders_orders_item_payment_prod_review = Orders_orders_item_payment_prod.merge(Order_review_rating, on = \"order_id\"\t,how = \"left\")\n",
    "max_rated_cat = Orders_orders_item_payment_prod_review.groupby(\"product_id\")[\"review_score\"].mean().sort_values(ascending = False)\n",
    "max_rated_cat = max_rated_cat.head(10)\n",
    "min_rated_cat = Orders_orders_item_payment_prod_review.groupby(\"product_id\")[\"review_score\"].mean().sort_values()\n",
    "min_rated_cat = min_rated_cat.head(10)\n",
    "print(f\"maximum rated product are \\n {round(max_rated_cat,2)}\")\n",
    "print(\"\\n\")\n",
    "print(f\"minumum rated product are \\n {round(min_rated_cat,2)}\")"
   ]
  },
  {
   "cell_type": "markdown",
   "id": "beaac253-2335-4bc4-9b93-d51454357f24",
   "metadata": {},
   "source": [
    "#### c. Average rating by location, seller, product, category, month etc."
   ]
  },
  {
   "cell_type": "code",
   "execution_count": 212,
   "id": "4da209eb-8f21-4ff4-a739-5e6137aa1960",
   "metadata": {},
   "outputs": [
    {
     "name": "stdout",
     "output_type": "stream",
     "text": [
      "maximum rated cities are \n",
      " customer_city\n",
      "Ghagga                  5.0\n",
      "Guru Har Sahai          5.0\n",
      "Gursahaiganj            5.0\n",
      "Singoli                 5.0\n",
      "Naranapuram             5.0\n",
      "Singrauli               5.0\n",
      "Gummidipoondi           5.0\n",
      "Guma                    5.0\n",
      "Periyanaickenpalayam    5.0\n",
      "Sirauli                 5.0\n",
      "Name: review_score, dtype: float64\n",
      "\n",
      "\n",
      "minumum rated cities are \n",
      " customer_city\n",
      "Dhandera       1.0\n",
      "Lucknow        1.0\n",
      "Saiyad Raja    1.0\n",
      "Uttar Goara    1.0\n",
      "Sahapur        1.0\n",
      "Mahu Kalan     1.0\n",
      "Koch Bihar     1.0\n",
      "Shoranur       1.0\n",
      "Ettayapuram    1.0\n",
      "Rewa           1.0\n",
      "Name: review_score, dtype: float64\n"
     ]
    }
   ],
   "source": [
    "#average rating by cities\n",
    "\n",
    "average_top_rat_city = Orders_orders_item_payment_prod_review_cust.groupby(\"customer_city\")[\"review_score\"].mean().sort_values(ascending = False)\n",
    "average_top_rat_city = average_top_rat_city.head(10)\n",
    "average_min_rat_city = Orders_orders_item_payment_prod_review_cust.groupby(\"customer_city\")[\"review_score\"].mean().sort_values(ascending = True)\n",
    "average_min_rat_city = average_min_rat_city.head(10)\n",
    "print(f\"maximum rated cities are \\n {round(average_top_rat_city,2)}\")\n",
    "print(\"\\n\")\n",
    "print(f\"minumum rated cities are \\n {round(average_min_rat_city,2)}\")\n"
   ]
  },
  {
   "cell_type": "code",
   "execution_count": 213,
   "id": "7fed754d-0cbc-444e-a919-f54dc6740f63",
   "metadata": {},
   "outputs": [
    {
     "name": "stdout",
     "output_type": "stream",
     "text": [
      "maximum rated state are \n",
      " customer_state\n",
      "Goa              4.80\n",
      "Punjab           4.17\n",
      "Uttar Pradesh    4.13\n",
      "Haryana          4.12\n",
      "Tamil Nadu       4.11\n",
      "Rajasthan        4.10\n",
      "Maharashtra      4.09\n",
      "Orissa           4.09\n",
      "Kerala           4.05\n",
      "Gujarat          4.04\n",
      "Name: review_score, dtype: float64\n",
      "\n",
      "\n",
      "minumum rated state are \n",
      " customer_state\n",
      "Uttaranchal          3.72\n",
      "Himachal Pradesh     3.99\n",
      "Andhra Pradesh       4.00\n",
      "Madhya Pradesh       4.00\n",
      "Jammu & Kashmir      4.00\n",
      "West Bengal          4.00\n",
      "Karnataka            4.02\n",
      "Arunachal Pradesh    4.02\n",
      "Delhi                4.03\n",
      "Chhattisgarh         4.03\n",
      "Name: review_score, dtype: float64\n"
     ]
    }
   ],
   "source": [
    "# average rating by states\n",
    "average_top_rat_state = Orders_orders_item_payment_prod_review_cust.groupby(\"customer_state\")[\"review_score\"].mean().sort_values(ascending = False)\n",
    "average_top_rat_state = average_top_rat_state.head(10)\n",
    "average_min_rat_state = Orders_orders_item_payment_prod_review_cust.groupby(\"customer_state\")[\"review_score\"].mean().sort_values(ascending = True)\n",
    "average_min_rat_state = average_min_rat_state.head(10)\n",
    "print(f\"maximum rated state are \\n {round(average_top_rat_state,2)}\")\n",
    "print(\"\\n\")\n",
    "print(f\"minumum rated state are \\n {round(average_min_rat_state,2)}\")\n"
   ]
  },
  {
   "cell_type": "code",
   "execution_count": 214,
   "id": "238d305f-669c-4320-8326-bbc242155935",
   "metadata": {},
   "outputs": [
    {
     "name": "stdout",
     "output_type": "stream",
     "text": [
      "maximum rated seller are \n",
      " seller_id\n",
      "c18309219e789960add0b2255ca4b091    5.0\n",
      "2075d8cd4dd63ff12df0749a5866bb06    5.0\n",
      "40ec8ab6cdafbcc4f544da38c67da39a    5.0\n",
      "4125d9385a25e82d2f72d3a0fd55bc3f    5.0\n",
      "417a1e6c7321084d2a0ae0d023cfad93    5.0\n",
      "41958cbd3335433c8740300e8cd600d5    5.0\n",
      "41e0fa5761c886a630994a55c12087e7    5.0\n",
      "422be4cc81a457fdb46f47edeb968ae5    5.0\n",
      "c963a25b8671419c6ce9eebe8fd03218    5.0\n",
      "eb9267cccc90f1b49c8d2f9887c7dd97    5.0\n",
      "Name: review_score, dtype: float64\n",
      "\n",
      "\n",
      "minumum rated seller are \n",
      " customer_state\n",
      "Uttaranchal          3.72\n",
      "Himachal Pradesh     3.99\n",
      "Andhra Pradesh       4.00\n",
      "Madhya Pradesh       4.00\n",
      "Jammu & Kashmir      4.00\n",
      "West Bengal          4.00\n",
      "Karnataka            4.02\n",
      "Arunachal Pradesh    4.02\n",
      "Delhi                4.03\n",
      "Chhattisgarh         4.03\n",
      "Name: review_score, dtype: float64\n"
     ]
    }
   ],
   "source": [
    "# average rating by seller\n",
    "average_top_rat_seller = Orders_orders_item_payment_prod_review_cust.groupby(\"seller_id\")[\"review_score\"].mean().sort_values(ascending = False)\n",
    "average_top_rat_seller = average_top_rat_seller.head(10)\n",
    "average_min_rat_seller = Orders_orders_item_payment_prod_review_cust.groupby(\"seller_id\")[\"review_score\"].mean().sort_values(ascending = True)\n",
    "average_min_rat_seller = average_min_rat_seller.head(10)\n",
    "print(f\"maximum rated seller are \\n {round(average_top_rat_seller,2)}\")\n",
    "print(\"\\n\")\n",
    "print(f\"minumum rated seller are \\n {round(average_min_rat_state,2)}\")"
   ]
  },
  {
   "cell_type": "code",
   "execution_count": 215,
   "id": "e578596a-36f7-4610-a9c7-385b3ad86662",
   "metadata": {},
   "outputs": [
    {
     "name": "stdout",
     "output_type": "stream",
     "text": [
      "average rating for month are \n",
      " month\n",
      "August       4.20\n",
      "July         4.17\n",
      "June         4.16\n",
      "September    4.12\n",
      "May          4.12\n",
      "April        4.04\n",
      "October      4.01\n",
      "January      3.94\n",
      "December     3.93\n",
      "November     3.83\n",
      "February     3.79\n",
      "March        3.78\n",
      "Name: review_score, dtype: float64\n"
     ]
    },
    {
     "data": {
      "text/plain": [
       "0         September\n",
       "1             April\n",
       "2           January\n",
       "3            August\n",
       "4          February\n",
       "            ...    \n",
       "118313        April\n",
       "118314         July\n",
       "118315      October\n",
       "118316       August\n",
       "118317         June\n",
       "Name: month, Length: 118318, dtype: object"
      ]
     },
     "execution_count": 215,
     "metadata": {},
     "output_type": "execute_result"
    }
   ],
   "source": [
    "# average rating by month\n",
    "average_rat_month = Orders_orders_item_payment_prod_review_cust.groupby(\"month\")[\"review_score\"].mean().sort_values(ascending = False)\n",
    "print(f\"average rating for month are \\n {round(average_rat_month,2)}\")\n",
    "Orders_orders_item_payment_prod_review_cust[\"month\"]"
   ]
  },
  {
   "cell_type": "code",
   "execution_count": 216,
   "id": "f069eea6-77a0-4d33-969d-9f1a7d7d84a3",
   "metadata": {},
   "outputs": [
    {
     "name": "stdout",
     "output_type": "stream",
     "text": [
      "average rating for  hour are \n",
      " hour\n",
      "22    4.09\n",
      "8     4.07\n",
      "7     4.06\n",
      "3     4.04\n",
      "20    4.04\n",
      "13    4.03\n",
      "14    4.03\n",
      "21    4.03\n",
      "17    4.03\n",
      "16    4.03\n",
      "9     4.02\n",
      "23    4.02\n",
      "19    4.02\n",
      "10    4.00\n",
      "11    4.00\n",
      "12    3.98\n",
      "5     3.98\n",
      "15    3.98\n",
      "18    3.95\n",
      "1     3.95\n",
      "0     3.92\n",
      "6     3.91\n",
      "4     3.87\n",
      "2     3.85\n",
      "Name: review_score, dtype: float64\n"
     ]
    }
   ],
   "source": [
    "# average rating by month\n",
    "average_rat_hour = Orders_orders_item_payment_prod_review_cust.groupby(\"hour\")[\"review_score\"].mean().sort_values(ascending = False)\n",
    "print(f\"average rating for  hour are \\n {round(average_rat_hour,2)}\")\n"
   ]
  },
  {
   "cell_type": "code",
   "execution_count": 217,
   "id": "a7a26005-95ad-49df-bcdb-0243c8d39e2f",
   "metadata": {},
   "outputs": [
    {
     "name": "stdout",
     "output_type": "stream",
     "text": [
      "average rating for days are \n",
      " day\n",
      "Wednesday    4.05\n",
      "Tuesday      4.04\n",
      "Monday       4.03\n",
      "Sunday       4.01\n",
      "Thursday     4.00\n",
      "Saturday     3.99\n",
      "Friday       3.97\n",
      "Name: review_score, dtype: float64\n"
     ]
    }
   ],
   "source": [
    "# average rating by day\n",
    "average_rat_day = Orders_orders_item_payment_prod_review_cust.groupby(\"day\")[\"review_score\"].mean().sort_values(ascending = False)\n",
    "print(f\"average rating for days are \\n {round(average_rat_day,2)}\")"
   ]
  }
 ],
 "metadata": {
  "kernelspec": {
   "display_name": "Python 3 (ipykernel)",
   "language": "python",
   "name": "python3"
  },
  "language_info": {
   "codemirror_mode": {
    "name": "ipython",
    "version": 3
   },
   "file_extension": ".py",
   "mimetype": "text/x-python",
   "name": "python",
   "nbconvert_exporter": "python",
   "pygments_lexer": "ipython3",
   "version": "3.9.13"
  }
 },
 "nbformat": 4,
 "nbformat_minor": 5
}
